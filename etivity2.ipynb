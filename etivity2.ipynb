{
 "cells": [
  {
   "cell_type": "markdown",
   "id": "54de7568",
   "metadata": {},
   "source": [
    "## Student Name: Brian Mortimer\n",
    "## Student ID: 20258763"
   ]
  }
 ],
 "metadata": {
  "language_info": {
   "name": "python"
  }
 },
 "nbformat": 4,
 "nbformat_minor": 5
}
